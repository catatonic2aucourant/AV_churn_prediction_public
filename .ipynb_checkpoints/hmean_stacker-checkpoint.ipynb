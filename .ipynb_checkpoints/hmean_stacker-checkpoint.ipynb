{
 "cells": [
  {
   "cell_type": "code",
   "execution_count": 2,
   "metadata": {
    "collapsed": true
   },
   "outputs": [],
   "source": [
    "import pandas as pd\n",
    "import numpy as np\n",
    "from scipy.stats import hmean, gmean\n",
    "import matplotlib.pyplot as plt"
   ]
  },
  {
   "cell_type": "code",
   "execution_count": 3,
   "metadata": {},
   "outputs": [],
   "source": [
    "sub_2928 = pd.read_csv(\"../utility/stacked_lr_lvl2_v2.csv\")\n",
    "sub_2930 = pd.read_csv(\"../utility/stacked_lr_lvl2.csv\")"
   ]
  },
  {
   "cell_type": "code",
   "execution_count": 4,
   "metadata": {
    "collapsed": true
   },
   "outputs": [],
   "source": [
    "def predict_proba_corr(preds):\n",
    "    d0 = 0.5\n",
    "    d1 = 1 - d0\n",
    "    r0 = np.mean(preds)\n",
    "    r1 = 1 - r0\n",
    "    gamma_0 = r0/d0\n",
    "    gamma_1 = r1/d1\n",
    "    return gamma_1*preds/(gamma_1*preds + gamma_0*(1 - preds))"
   ]
  },
  {
   "cell_type": "code",
   "execution_count": 5,
   "metadata": {},
   "outputs": [
    {
     "data": {
      "text/plain": [
       "array([[ 0.77804673,  0.57381839],\n",
       "       [ 0.02661842,  0.41459276],\n",
       "       [ 0.05824881,  0.42562973],\n",
       "       ..., \n",
       "       [ 0.30736641,  0.49290929],\n",
       "       [ 0.02582117,  0.41407521],\n",
       "       [ 0.85712617,  0.59298914]])"
      ]
     },
     "execution_count": 5,
     "metadata": {},
     "output_type": "execute_result"
    }
   ],
   "source": [
    "all_preds = np.vstack((sub_2928['Responders'].values, sub_2930['Responders'].values)).T\n",
    "all_preds"
   ]
  },
  {
   "cell_type": "code",
   "execution_count": 6,
   "metadata": {
    "collapsed": true
   },
   "outputs": [],
   "source": [
    "all_preds_corr = np.apply_along_axis(predict_proba_corr, 0, all_preds)"
   ]
  },
  {
   "cell_type": "code",
   "execution_count": 7,
   "metadata": {
    "collapsed": true
   },
   "outputs": [],
   "source": [
    "hmean_preds = hmean(all_preds_corr, axis=1)"
   ]
  },
  {
   "cell_type": "code",
   "execution_count": 8,
   "metadata": {
    "collapsed": true
   },
   "outputs": [],
   "source": [
    "gmean_preds = gmean(all_preds_corr, axis=1)"
   ]
  },
  {
   "cell_type": "code",
   "execution_count": 9,
   "metadata": {
    "collapsed": true
   },
   "outputs": [],
   "source": [
    "mean = np.mean(all_preds_corr, axis=1)"
   ]
  },
  {
   "cell_type": "code",
   "execution_count": 12,
   "metadata": {},
   "outputs": [],
   "source": [
    "hmean_preds_df = pd.DataFrame({'UCIC_ID':sub_2928.UCIC_ID, 'Responders':hmean_preds})\n",
    "hmean_preds_df.to_csv(\"../utility/subs_hmean6_corr.csv\", index=False)"
   ]
  },
  {
   "cell_type": "code",
   "execution_count": 13,
   "metadata": {},
   "outputs": [],
   "source": [
    "gmean_preds_df = pd.DataFrame({'UCIC_ID':sub_2928.UCIC_ID, 'Responders':gmean_preds})\n",
    "gmean_preds_df.to_csv(\"../utility/subs_gmean6_corr.csv\", index=False)"
   ]
  },
  {
   "cell_type": "code",
   "execution_count": 14,
   "metadata": {
    "collapsed": true
   },
   "outputs": [],
   "source": [
    "mean_preds_df = pd.DataFrame({'UCIC_ID':sub_2928.UCIC_ID, 'Responders':mean})\n",
    "mean_preds_df.to_csv(\"../utility/subs_mean6_corr.csv\", index=False)"
   ]
  },
  {
   "cell_type": "code",
   "execution_count": 15,
   "metadata": {},
   "outputs": [
    {
     "data": {
      "image/png": "[encoded data removed]",
      "text/plain": [
       "<matplotlib.figure.Figure at 0x7f01fd288be0>"
      ]
     },
     "metadata": {},
     "output_type": "display_data"
    }
   ],
   "source": [
    "plt.hist(hmean_preds, bins=100, alpha=0.5)\n",
    "plt.hist(gmean_preds, bins=100, alpha=0.5)\n",
    "plt.hist(mean, bins=100, alpha=0.5)\n",
    "#plt.hist(hmean_preds2, bins=100, alpha=0.5)\n",
    "plt.show()"
   ]
  },
  {
   "cell_type": "code",
   "execution_count": null,
   "metadata": {
    "collapsed": true
   },
   "outputs": [],
   "source": []
  }
 ],
 "metadata": {
  "kernelspec": {
   "display_name": "Python 3",
   "language": "python",
   "name": "python3"
  },
  "language_info": {
   "codemirror_mode": {
    "name": "ipython",
    "version": 3
   },
   "file_extension": ".py",
   "mimetype": "text/x-python",
   "name": "python",
   "nbconvert_exporter": "python",
   "pygments_lexer": "ipython3",
   "version": "3.6.3"
  }
 },
 "nbformat": 4,
 "nbformat_minor": 2
}
