{
 "cells": [
  {
   "cell_type": "code",
   "execution_count": 1,
   "metadata": {
    "collapsed": true
   },
   "outputs": [],
   "source": [
    "import pandas as pd\n",
    "import numpy as np\n",
    "\n",
    "from sklearn import metrics\n",
    "from sklearn.base import BaseEstimator, TransformerMixin\n",
    "from sklearn.linear_model import LogisticRegression, SGDClassifier\n",
    "from sklearn.ensemble import RandomForestClassifier\n",
    "from sklearn.preprocessing import StandardScaler, LabelEncoder\n",
    "import category_encoders as en\n",
    "\n",
    "\n",
    "from sklearn.pipeline import Pipeline, make_pipeline, make_union\n",
    "from sklearn.model_selection import cross_val_score, cross_val_predict, StratifiedKFold\n",
    "\n",
    "#from OneHotEncoderDf import OneHotEncoderDf\n",
    "#from LabelEncoderDf import LabelEncoderDf\n",
    "#from FeatureSubsetTransformer import FeatureSubsetTransformer\n",
    "\n",
    "import lightgbm as lgb\n",
    "\n",
    "from skopt import BayesSearchCV, gp_minimize, forest_minimize\n",
    "from skopt.space import Real, Categorical, Integer\n",
    "from skopt import dump\n",
    "\n",
    "import pickle\n",
    "import time\n",
    "import os\n",
    "import matplotlib.pyplot as plt\n",
    "import seaborn as sns\n",
    "#import xgboost as xgb\n",
    "\n",
    "#import category_encoders as en"
   ]
  },
  {
   "cell_type": "code",
   "execution_count": 2,
   "metadata": {
    "collapsed": true
   },
   "outputs": [],
   "source": [
    "from sklearn.metrics import make_scorer\n",
    "def eval_top(y, preds):\n",
    "    y = np.array(y)\n",
    "    n = int(len(preds) * 0.2)\n",
    "    if np.ndim(preds) == 1:\n",
    "        indices = np.argsort(preds)[::-1][:n]\n",
    "    else:\n",
    "        indices = np.argsort(preds[:, 1])[::-1][:n]\n",
    "    return sum(y[indices])/sum(y)\n",
    "\n",
    "\n",
    "eval_sklearn = make_scorer(eval_top, needs_proba=True)\n",
    "\n",
    "def eval_xgb(preds, dtrain):\n",
    "    labels = dtrain.get_label()\n",
    "    eval_score = eval_top(labels, preds)\n",
    "    return [('eval', eval_score)]\n",
    "\n",
    "def eval_lgb(actuals, preds):\n",
    "    return 'eval', eval_top(actuals, preds), True"
   ]
  },
  {
   "cell_type": "code",
   "execution_count": 3,
   "metadata": {
    "collapsed": true
   },
   "outputs": [],
   "source": [
    "def predict_proba_corr(self, X):\n",
    "    preds = self.predict_proba(X)[:,1]\n",
    "    d0 = 0.5\n",
    "    d1 = 1 - d0\n",
    "    r0 = np.mean(preds)\n",
    "    r1 = 1 - r0\n",
    "    gamma_0 = r0/d0\n",
    "    gamma_1 = r1/d1\n",
    "    return gamma_1*preds/(gamma_1*preds + gamma_0*(1 - preds))"
   ]
  },
  {
   "cell_type": "code",
   "execution_count": 4,
   "metadata": {},
   "outputs": [
    {
     "name": "stderr",
     "output_type": "stream",
     "text": [
      "/home/mohsin/anaconda3/lib/python3.6/site-packages/IPython/core/interactiveshell.py:2698: DtypeWarning: Columns (294,299,300,302,307,313,315,365,367,369) have mixed types. Specify dtype option on import or set low_memory=False.\n",
      "  interactivity=interactivity, compiler=compiler, result=result)\n",
      "/home/mohsin/anaconda3/lib/python3.6/site-packages/IPython/core/interactiveshell.py:2698: DtypeWarning: Columns (294,299,300,302,313,315,365,367,369) have mixed types. Specify dtype option on import or set low_memory=False.\n",
      "  interactivity=interactivity, compiler=compiler, result=result)\n"
     ]
    },
    {
     "data": {
      "text/html": [
       "<div>\n",
       "<style>\n",
       "    .dataframe thead tr:only-child th {\n",
       "        text-align: right;\n",
       "    }\n",
       "\n",
       "    .dataframe thead th {\n",
       "        text-align: left;\n",
       "    }\n",
       "\n",
       "    .dataframe tbody tr th {\n",
       "        vertical-align: top;\n",
       "    }\n",
       "</style>\n",
       "<table border=\"1\" class=\"dataframe\">\n",
       "  <thead>\n",
       "    <tr style=\"text-align: right;\">\n",
       "      <th></th>\n",
       "      <th>UCIC_ID</th>\n",
       "      <th>NO_OF_Accs</th>\n",
       "      <th>HNW_CATEGORY</th>\n",
       "      <th>vintage</th>\n",
       "      <th>EMAIL_UNSUBSCRIBE</th>\n",
       "      <th>OCCUP_ALL_NEW</th>\n",
       "      <th>city</th>\n",
       "      <th>dependents</th>\n",
       "      <th>zip</th>\n",
       "      <th>FINAL_WORTH_prev1</th>\n",
       "      <th>...</th>\n",
       "      <th>Query_Resolved_PrevQ1</th>\n",
       "      <th>Complaint_Logged_PrevQ1</th>\n",
       "      <th>Complaint_Resolved_PrevQ1</th>\n",
       "      <th>NO_OF_CHEQUE_BOUNCE_V1</th>\n",
       "      <th>Percent_Change_in_Credits</th>\n",
       "      <th>Percent_Change_in_FT_Bank</th>\n",
       "      <th>Percent_Change_in_FT_outside</th>\n",
       "      <th>Percent_Change_in_Self_Txn</th>\n",
       "      <th>Percent_Change_in_Big_Expenses</th>\n",
       "      <th>Responders</th>\n",
       "    </tr>\n",
       "  </thead>\n",
       "  <tbody>\n",
       "    <tr>\n",
       "      <th>0</th>\n",
       "      <td>170114</td>\n",
       "      <td>1</td>\n",
       "      <td>2_Preferred</td>\n",
       "      <td>1947</td>\n",
       "      <td>NaN</td>\n",
       "      <td>HOUSEWIFE</td>\n",
       "      <td>BANGALORE</td>\n",
       "      <td>0.0</td>\n",
       "      <td>562114.0</td>\n",
       "      <td>HIGH</td>\n",
       "      <td>...</td>\n",
       "      <td>NaN</td>\n",
       "      <td>NaN</td>\n",
       "      <td>NaN</td>\n",
       "      <td>NaN</td>\n",
       "      <td>-94.757314</td>\n",
       "      <td>NaN</td>\n",
       "      <td>0.0</td>\n",
       "      <td>NaN</td>\n",
       "      <td>NaN</td>\n",
       "      <td>0</td>\n",
       "    </tr>\n",
       "    <tr>\n",
       "      <th>1</th>\n",
       "      <td>488013</td>\n",
       "      <td>1</td>\n",
       "      <td>1_Imperia</td>\n",
       "      <td>3082</td>\n",
       "      <td>NaN</td>\n",
       "      <td>SALARIED</td>\n",
       "      <td>MUMBAI</td>\n",
       "      <td>0.0</td>\n",
       "      <td>400015.0</td>\n",
       "      <td>HIGH</td>\n",
       "      <td>...</td>\n",
       "      <td>NaN</td>\n",
       "      <td>NaN</td>\n",
       "      <td>NaN</td>\n",
       "      <td>NaN</td>\n",
       "      <td>160.024566</td>\n",
       "      <td>NaN</td>\n",
       "      <td>0.0</td>\n",
       "      <td>NaN</td>\n",
       "      <td>0.0</td>\n",
       "      <td>0</td>\n",
       "    </tr>\n",
       "    <tr>\n",
       "      <th>2</th>\n",
       "      <td>435239</td>\n",
       "      <td>1</td>\n",
       "      <td>2_Preferred</td>\n",
       "      <td>572</td>\n",
       "      <td>NaN</td>\n",
       "      <td>SELF_EMPLOYED</td>\n",
       "      <td>HILI</td>\n",
       "      <td>NaN</td>\n",
       "      <td>733126.0</td>\n",
       "      <td>HIGH</td>\n",
       "      <td>...</td>\n",
       "      <td>NaN</td>\n",
       "      <td>NaN</td>\n",
       "      <td>NaN</td>\n",
       "      <td>NaN</td>\n",
       "      <td>273.771918</td>\n",
       "      <td>NaN</td>\n",
       "      <td>10.0</td>\n",
       "      <td>NaN</td>\n",
       "      <td>NaN</td>\n",
       "      <td>1</td>\n",
       "    </tr>\n",
       "    <tr>\n",
       "      <th>3</th>\n",
       "      <td>331646</td>\n",
       "      <td>1</td>\n",
       "      <td>3_Classic</td>\n",
       "      <td>773</td>\n",
       "      <td>NaN</td>\n",
       "      <td>SELF_EMPLOYED</td>\n",
       "      <td>NAMAKKAL</td>\n",
       "      <td>0.0</td>\n",
       "      <td>637410.0</td>\n",
       "      <td>HIGH</td>\n",
       "      <td>...</td>\n",
       "      <td>NaN</td>\n",
       "      <td>NaN</td>\n",
       "      <td>NaN</td>\n",
       "      <td>NaN</td>\n",
       "      <td>NaN</td>\n",
       "      <td>NaN</td>\n",
       "      <td>NaN</td>\n",
       "      <td>NaN</td>\n",
       "      <td>NaN</td>\n",
       "      <td>0</td>\n",
       "    </tr>\n",
       "    <tr>\n",
       "      <th>4</th>\n",
       "      <td>226900</td>\n",
       "      <td>1</td>\n",
       "      <td>2_Preferred</td>\n",
       "      <td>1627</td>\n",
       "      <td>NaN</td>\n",
       "      <td>HOUSEWIFE</td>\n",
       "      <td>MUMBAI</td>\n",
       "      <td>0.0</td>\n",
       "      <td>400053.0</td>\n",
       "      <td>HIGH</td>\n",
       "      <td>...</td>\n",
       "      <td>NaN</td>\n",
       "      <td>NaN</td>\n",
       "      <td>NaN</td>\n",
       "      <td>NaN</td>\n",
       "      <td>399.997265</td>\n",
       "      <td>NaN</td>\n",
       "      <td>7.0</td>\n",
       "      <td>NaN</td>\n",
       "      <td>NaN</td>\n",
       "      <td>0</td>\n",
       "    </tr>\n",
       "  </tbody>\n",
       "</table>\n",
       "<p>5 rows × 377 columns</p>\n",
       "</div>"
      ],
      "text/plain": [
       "   UCIC_ID  NO_OF_Accs HNW_CATEGORY  vintage EMAIL_UNSUBSCRIBE  OCCUP_ALL_NEW  \\\n",
       "0   170114           1  2_Preferred     1947               NaN      HOUSEWIFE   \n",
       "1   488013           1    1_Imperia     3082               NaN       SALARIED   \n",
       "2   435239           1  2_Preferred      572               NaN  SELF_EMPLOYED   \n",
       "3   331646           1    3_Classic      773               NaN  SELF_EMPLOYED   \n",
       "4   226900           1  2_Preferred     1627               NaN      HOUSEWIFE   \n",
       "\n",
       "        city  dependents       zip FINAL_WORTH_prev1     ...      \\\n",
       "0  BANGALORE         0.0  562114.0              HIGH     ...       \n",
       "1     MUMBAI         0.0  400015.0              HIGH     ...       \n",
       "2       HILI         NaN  733126.0              HIGH     ...       \n",
       "3   NAMAKKAL         0.0  637410.0              HIGH     ...       \n",
       "4     MUMBAI         0.0  400053.0              HIGH     ...       \n",
       "\n",
       "  Query_Resolved_PrevQ1  Complaint_Logged_PrevQ1  Complaint_Resolved_PrevQ1  \\\n",
       "0                   NaN                      NaN                        NaN   \n",
       "1                   NaN                      NaN                        NaN   \n",
       "2                   NaN                      NaN                        NaN   \n",
       "3                   NaN                      NaN                        NaN   \n",
       "4                   NaN                      NaN                        NaN   \n",
       "\n",
       "   NO_OF_CHEQUE_BOUNCE_V1  Percent_Change_in_Credits  \\\n",
       "0                     NaN                 -94.757314   \n",
       "1                     NaN                 160.024566   \n",
       "2                     NaN                 273.771918   \n",
       "3                     NaN                        NaN   \n",
       "4                     NaN                 399.997265   \n",
       "\n",
       "   Percent_Change_in_FT_Bank  Percent_Change_in_FT_outside  \\\n",
       "0                        NaN                           0.0   \n",
       "1                        NaN                           0.0   \n",
       "2                        NaN                          10.0   \n",
       "3                        NaN                           NaN   \n",
       "4                        NaN                           7.0   \n",
       "\n",
       "   Percent_Change_in_Self_Txn  Percent_Change_in_Big_Expenses  Responders  \n",
       "0                         NaN                             NaN           0  \n",
       "1                         NaN                             0.0           0  \n",
       "2                         NaN                             NaN           1  \n",
       "3                         NaN                             NaN           0  \n",
       "4                         NaN                             NaN           0  \n",
       "\n",
       "[5 rows x 377 columns]"
      ]
     },
     "execution_count": 4,
     "metadata": {},
     "output_type": "execute_result"
    }
   ],
   "source": [
    "train = pd.read_csv(\"../data/train.csv\")\n",
    "test = pd.read_csv(\"../data/test.csv\")\n",
    "cvlist = list(StratifiedKFold(n_splits=5, random_state=5).split(train, train['Responders']))\n",
    "y = train['Responders']\n",
    "train.head()"
   ]
  },
  {
   "cell_type": "code",
   "execution_count": 5,
   "metadata": {},
   "outputs": [
    {
     "data": {
      "text/html": [
       "<div>\n",
       "<style>\n",
       "    .dataframe thead tr:only-child th {\n",
       "        text-align: right;\n",
       "    }\n",
       "\n",
       "    .dataframe thead th {\n",
       "        text-align: left;\n",
       "    }\n",
       "\n",
       "    .dataframe tbody tr th {\n",
       "        vertical-align: top;\n",
       "    }\n",
       "</style>\n",
       "<table border=\"1\" class=\"dataframe\">\n",
       "  <thead>\n",
       "    <tr style=\"text-align: right;\">\n",
       "      <th></th>\n",
       "      <th>lgb_0</th>\n",
       "      <th>lgb_1</th>\n",
       "      <th>lgb_2</th>\n",
       "      <th>lgb_3</th>\n",
       "      <th>lgb_4</th>\n",
       "      <th>lgb_5</th>\n",
       "      <th>lgb_6</th>\n",
       "      <th>lgb_7</th>\n",
       "      <th>lgb_8</th>\n",
       "      <th>lgb_9</th>\n",
       "      <th>...</th>\n",
       "      <th>lgb_11</th>\n",
       "      <th>lgb_12</th>\n",
       "      <th>lgb_13</th>\n",
       "      <th>lgb_14</th>\n",
       "      <th>lgb_15</th>\n",
       "      <th>lgb_16</th>\n",
       "      <th>lgb_17</th>\n",
       "      <th>lgb_18</th>\n",
       "      <th>lgb_19</th>\n",
       "      <th>lgb_20</th>\n",
       "    </tr>\n",
       "  </thead>\n",
       "  <tbody>\n",
       "    <tr>\n",
       "      <th>0</th>\n",
       "      <td>0.454530</td>\n",
       "      <td>0.271781</td>\n",
       "      <td>0.421716</td>\n",
       "      <td>0.340776</td>\n",
       "      <td>0.395252</td>\n",
       "      <td>0.408591</td>\n",
       "      <td>0.450017</td>\n",
       "      <td>0.324930</td>\n",
       "      <td>0.378305</td>\n",
       "      <td>0.259191</td>\n",
       "      <td>...</td>\n",
       "      <td>0.405895</td>\n",
       "      <td>0.375466</td>\n",
       "      <td>0.392491</td>\n",
       "      <td>0.234121</td>\n",
       "      <td>0.411154</td>\n",
       "      <td>0.422291</td>\n",
       "      <td>0.367262</td>\n",
       "      <td>0.427928</td>\n",
       "      <td>0.376991</td>\n",
       "      <td>0.372701</td>\n",
       "    </tr>\n",
       "    <tr>\n",
       "      <th>1</th>\n",
       "      <td>0.146316</td>\n",
       "      <td>0.093622</td>\n",
       "      <td>0.157192</td>\n",
       "      <td>0.153719</td>\n",
       "      <td>0.160587</td>\n",
       "      <td>0.176804</td>\n",
       "      <td>0.234032</td>\n",
       "      <td>0.101182</td>\n",
       "      <td>0.160113</td>\n",
       "      <td>0.117260</td>\n",
       "      <td>...</td>\n",
       "      <td>0.180522</td>\n",
       "      <td>0.146457</td>\n",
       "      <td>0.133400</td>\n",
       "      <td>0.055851</td>\n",
       "      <td>0.168601</td>\n",
       "      <td>0.158126</td>\n",
       "      <td>0.213186</td>\n",
       "      <td>0.203708</td>\n",
       "      <td>0.149064</td>\n",
       "      <td>0.152933</td>\n",
       "    </tr>\n",
       "    <tr>\n",
       "      <th>2</th>\n",
       "      <td>0.954714</td>\n",
       "      <td>0.977832</td>\n",
       "      <td>0.948350</td>\n",
       "      <td>0.965292</td>\n",
       "      <td>0.973540</td>\n",
       "      <td>0.959112</td>\n",
       "      <td>0.944592</td>\n",
       "      <td>0.976136</td>\n",
       "      <td>0.959975</td>\n",
       "      <td>0.969463</td>\n",
       "      <td>...</td>\n",
       "      <td>0.948208</td>\n",
       "      <td>0.969003</td>\n",
       "      <td>0.954729</td>\n",
       "      <td>0.978947</td>\n",
       "      <td>0.960604</td>\n",
       "      <td>0.959160</td>\n",
       "      <td>0.941252</td>\n",
       "      <td>0.952288</td>\n",
       "      <td>0.959727</td>\n",
       "      <td>0.961084</td>\n",
       "    </tr>\n",
       "    <tr>\n",
       "      <th>3</th>\n",
       "      <td>0.100159</td>\n",
       "      <td>0.099307</td>\n",
       "      <td>0.109154</td>\n",
       "      <td>0.103830</td>\n",
       "      <td>0.094958</td>\n",
       "      <td>0.104210</td>\n",
       "      <td>0.143701</td>\n",
       "      <td>0.069699</td>\n",
       "      <td>0.098500</td>\n",
       "      <td>0.059028</td>\n",
       "      <td>...</td>\n",
       "      <td>0.115965</td>\n",
       "      <td>0.101939</td>\n",
       "      <td>0.114361</td>\n",
       "      <td>0.060393</td>\n",
       "      <td>0.131260</td>\n",
       "      <td>0.112878</td>\n",
       "      <td>0.172746</td>\n",
       "      <td>0.151157</td>\n",
       "      <td>0.096732</td>\n",
       "      <td>0.107099</td>\n",
       "    </tr>\n",
       "    <tr>\n",
       "      <th>4</th>\n",
       "      <td>0.717965</td>\n",
       "      <td>0.732573</td>\n",
       "      <td>0.724716</td>\n",
       "      <td>0.697632</td>\n",
       "      <td>0.719972</td>\n",
       "      <td>0.752562</td>\n",
       "      <td>0.611049</td>\n",
       "      <td>0.808822</td>\n",
       "      <td>0.747896</td>\n",
       "      <td>0.791051</td>\n",
       "      <td>...</td>\n",
       "      <td>0.723385</td>\n",
       "      <td>0.640878</td>\n",
       "      <td>0.651620</td>\n",
       "      <td>0.840455</td>\n",
       "      <td>0.643350</td>\n",
       "      <td>0.758365</td>\n",
       "      <td>0.637697</td>\n",
       "      <td>0.639122</td>\n",
       "      <td>0.797555</td>\n",
       "      <td>0.715956</td>\n",
       "    </tr>\n",
       "  </tbody>\n",
       "</table>\n",
       "<p>5 rows × 21 columns</p>\n",
       "</div>"
      ],
      "text/plain": [
       "      lgb_0     lgb_1     lgb_2     lgb_3     lgb_4     lgb_5     lgb_6  \\\n",
       "0  0.454530  0.271781  0.421716  0.340776  0.395252  0.408591  0.450017   \n",
       "1  0.146316  0.093622  0.157192  0.153719  0.160587  0.176804  0.234032   \n",
       "2  0.954714  0.977832  0.948350  0.965292  0.973540  0.959112  0.944592   \n",
       "3  0.100159  0.099307  0.109154  0.103830  0.094958  0.104210  0.143701   \n",
       "4  0.717965  0.732573  0.724716  0.697632  0.719972  0.752562  0.611049   \n",
       "\n",
       "      lgb_7     lgb_8     lgb_9    ...       lgb_11    lgb_12    lgb_13  \\\n",
       "0  0.324930  0.378305  0.259191    ...     0.405895  0.375466  0.392491   \n",
       "1  0.101182  0.160113  0.117260    ...     0.180522  0.146457  0.133400   \n",
       "2  0.976136  0.959975  0.969463    ...     0.948208  0.969003  0.954729   \n",
       "3  0.069699  0.098500  0.059028    ...     0.115965  0.101939  0.114361   \n",
       "4  0.808822  0.747896  0.791051    ...     0.723385  0.640878  0.651620   \n",
       "\n",
       "     lgb_14    lgb_15    lgb_16    lgb_17    lgb_18    lgb_19    lgb_20  \n",
       "0  0.234121  0.411154  0.422291  0.367262  0.427928  0.376991  0.372701  \n",
       "1  0.055851  0.168601  0.158126  0.213186  0.203708  0.149064  0.152933  \n",
       "2  0.978947  0.960604  0.959160  0.941252  0.952288  0.959727  0.961084  \n",
       "3  0.060393  0.131260  0.112878  0.172746  0.151157  0.096732  0.107099  \n",
       "4  0.840455  0.643350  0.758365  0.637697  0.639122  0.797555  0.715956  \n",
       "\n",
       "[5 rows x 21 columns]"
      ]
     },
     "execution_count": 5,
     "metadata": {},
     "output_type": "execute_result"
    }
   ],
   "source": [
    "train_lgbs = pd.read_csv(\"../utility/train_oof_lgb_opt.csv\", compression='gzip', index_col=0)\n",
    "test_lgbs = pd.read_csv(\"../utility/test_pred_lgb_opt.csv\", compression='gzip', index_col=0)\n",
    "train_lgbs.columns = ['lgb_'+str(i) for i in range(train_lgbs.shape[1])]\n",
    "test_lgbs.columns = ['lgb_'+str(i) for i in range(test_lgbs.shape[1])]\n",
    "train_lgbs.head()"
   ]
  },
  {
   "cell_type": "code",
   "execution_count": 6,
   "metadata": {},
   "outputs": [
    {
     "name": "stdout",
     "output_type": "stream",
     "text": [
      "lgb_0     0.680252\n",
      "lgb_1     0.679865\n",
      "lgb_2     0.682071\n",
      "lgb_3     0.681045\n",
      "lgb_4     0.681355\n",
      "lgb_5     0.681490\n",
      "lgb_6     0.671103\n",
      "lgb_7     0.680156\n",
      "lgb_8     0.680716\n",
      "lgb_9     0.680407\n",
      "lgb_10    0.681490\n",
      "lgb_11    0.681355\n",
      "lgb_12    0.680716\n",
      "lgb_13    0.681510\n",
      "lgb_14    0.679498\n",
      "lgb_15    0.681800\n",
      "lgb_16    0.681548\n",
      "lgb_17    0.668453\n",
      "lgb_18    0.670406\n",
      "lgb_19    0.680310\n",
      "lgb_20    0.683367\n",
      "dtype: float64\n"
     ]
    }
   ],
   "source": [
    "print(train_lgbs.apply(lambda col: eval_top(y, col)))"
   ]
  },
  {
   "cell_type": "code",
   "execution_count": 7,
   "metadata": {},
   "outputs": [
    {
     "data": {
      "text/html": [
       "<div>\n",
       "<style>\n",
       "    .dataframe thead tr:only-child th {\n",
       "        text-align: right;\n",
       "    }\n",
       "\n",
       "    .dataframe thead th {\n",
       "        text-align: left;\n",
       "    }\n",
       "\n",
       "    .dataframe tbody tr th {\n",
       "        vertical-align: top;\n",
       "    }\n",
       "</style>\n",
       "<table border=\"1\" class=\"dataframe\">\n",
       "  <thead>\n",
       "    <tr style=\"text-align: right;\">\n",
       "      <th></th>\n",
       "      <th>lgb_0</th>\n",
       "      <th>lgb_1</th>\n",
       "      <th>lgb_2</th>\n",
       "      <th>lgb_3</th>\n",
       "      <th>lgb_4</th>\n",
       "      <th>lgb_5</th>\n",
       "      <th>lgb_7</th>\n",
       "      <th>lgb_8</th>\n",
       "      <th>lgb_9</th>\n",
       "      <th>lgb_10</th>\n",
       "      <th>lgb_11</th>\n",
       "      <th>lgb_12</th>\n",
       "      <th>lgb_13</th>\n",
       "      <th>lgb_15</th>\n",
       "      <th>lgb_16</th>\n",
       "      <th>lgb_17</th>\n",
       "      <th>lgb_19</th>\n",
       "      <th>lgb_20</th>\n",
       "    </tr>\n",
       "  </thead>\n",
       "  <tbody>\n",
       "    <tr>\n",
       "      <th>0</th>\n",
       "      <td>0.454530</td>\n",
       "      <td>0.271781</td>\n",
       "      <td>0.421716</td>\n",
       "      <td>0.340776</td>\n",
       "      <td>0.395252</td>\n",
       "      <td>0.408591</td>\n",
       "      <td>0.324930</td>\n",
       "      <td>0.378305</td>\n",
       "      <td>0.259191</td>\n",
       "      <td>0.335328</td>\n",
       "      <td>0.405895</td>\n",
       "      <td>0.375466</td>\n",
       "      <td>0.392491</td>\n",
       "      <td>0.411154</td>\n",
       "      <td>0.422291</td>\n",
       "      <td>0.367262</td>\n",
       "      <td>0.376991</td>\n",
       "      <td>0.372701</td>\n",
       "    </tr>\n",
       "    <tr>\n",
       "      <th>1</th>\n",
       "      <td>0.146316</td>\n",
       "      <td>0.093622</td>\n",
       "      <td>0.157192</td>\n",
       "      <td>0.153719</td>\n",
       "      <td>0.160587</td>\n",
       "      <td>0.176804</td>\n",
       "      <td>0.101182</td>\n",
       "      <td>0.160113</td>\n",
       "      <td>0.117260</td>\n",
       "      <td>0.148917</td>\n",
       "      <td>0.180522</td>\n",
       "      <td>0.146457</td>\n",
       "      <td>0.133400</td>\n",
       "      <td>0.168601</td>\n",
       "      <td>0.158126</td>\n",
       "      <td>0.213186</td>\n",
       "      <td>0.149064</td>\n",
       "      <td>0.152933</td>\n",
       "    </tr>\n",
       "    <tr>\n",
       "      <th>2</th>\n",
       "      <td>0.954714</td>\n",
       "      <td>0.977832</td>\n",
       "      <td>0.948350</td>\n",
       "      <td>0.965292</td>\n",
       "      <td>0.973540</td>\n",
       "      <td>0.959112</td>\n",
       "      <td>0.976136</td>\n",
       "      <td>0.959975</td>\n",
       "      <td>0.969463</td>\n",
       "      <td>0.968751</td>\n",
       "      <td>0.948208</td>\n",
       "      <td>0.969003</td>\n",
       "      <td>0.954729</td>\n",
       "      <td>0.960604</td>\n",
       "      <td>0.959160</td>\n",
       "      <td>0.941252</td>\n",
       "      <td>0.959727</td>\n",
       "      <td>0.961084</td>\n",
       "    </tr>\n",
       "    <tr>\n",
       "      <th>3</th>\n",
       "      <td>0.100159</td>\n",
       "      <td>0.099307</td>\n",
       "      <td>0.109154</td>\n",
       "      <td>0.103830</td>\n",
       "      <td>0.094958</td>\n",
       "      <td>0.104210</td>\n",
       "      <td>0.069699</td>\n",
       "      <td>0.098500</td>\n",
       "      <td>0.059028</td>\n",
       "      <td>0.101998</td>\n",
       "      <td>0.115965</td>\n",
       "      <td>0.101939</td>\n",
       "      <td>0.114361</td>\n",
       "      <td>0.131260</td>\n",
       "      <td>0.112878</td>\n",
       "      <td>0.172746</td>\n",
       "      <td>0.096732</td>\n",
       "      <td>0.107099</td>\n",
       "    </tr>\n",
       "    <tr>\n",
       "      <th>4</th>\n",
       "      <td>0.717965</td>\n",
       "      <td>0.732573</td>\n",
       "      <td>0.724716</td>\n",
       "      <td>0.697632</td>\n",
       "      <td>0.719972</td>\n",
       "      <td>0.752562</td>\n",
       "      <td>0.808822</td>\n",
       "      <td>0.747896</td>\n",
       "      <td>0.791051</td>\n",
       "      <td>0.682465</td>\n",
       "      <td>0.723385</td>\n",
       "      <td>0.640878</td>\n",
       "      <td>0.651620</td>\n",
       "      <td>0.643350</td>\n",
       "      <td>0.758365</td>\n",
       "      <td>0.637697</td>\n",
       "      <td>0.797555</td>\n",
       "      <td>0.715956</td>\n",
       "    </tr>\n",
       "  </tbody>\n",
       "</table>\n",
       "</div>"
      ],
      "text/plain": [
       "      lgb_0     lgb_1     lgb_2     lgb_3     lgb_4     lgb_5     lgb_7  \\\n",
       "0  0.454530  0.271781  0.421716  0.340776  0.395252  0.408591  0.324930   \n",
       "1  0.146316  0.093622  0.157192  0.153719  0.160587  0.176804  0.101182   \n",
       "2  0.954714  0.977832  0.948350  0.965292  0.973540  0.959112  0.976136   \n",
       "3  0.100159  0.099307  0.109154  0.103830  0.094958  0.104210  0.069699   \n",
       "4  0.717965  0.732573  0.724716  0.697632  0.719972  0.752562  0.808822   \n",
       "\n",
       "      lgb_8     lgb_9    lgb_10    lgb_11    lgb_12    lgb_13    lgb_15  \\\n",
       "0  0.378305  0.259191  0.335328  0.405895  0.375466  0.392491  0.411154   \n",
       "1  0.160113  0.117260  0.148917  0.180522  0.146457  0.133400  0.168601   \n",
       "2  0.959975  0.969463  0.968751  0.948208  0.969003  0.954729  0.960604   \n",
       "3  0.098500  0.059028  0.101998  0.115965  0.101939  0.114361  0.131260   \n",
       "4  0.747896  0.791051  0.682465  0.723385  0.640878  0.651620  0.643350   \n",
       "\n",
       "     lgb_16    lgb_17    lgb_19    lgb_20  \n",
       "0  0.422291  0.367262  0.376991  0.372701  \n",
       "1  0.158126  0.213186  0.149064  0.152933  \n",
       "2  0.959160  0.941252  0.959727  0.961084  \n",
       "3  0.112878  0.172746  0.096732  0.107099  \n",
       "4  0.758365  0.637697  0.797555  0.715956  "
      ]
     },
     "execution_count": 7,
     "metadata": {},
     "output_type": "execute_result"
    }
   ],
   "source": [
    "train_lgbs.drop(['lgb_6','lgb_14','lgb_18'], axis=1, inplace=True)\n",
    "test_lgbs.drop(['lgb_6','lgb_14','lgb_18'], axis=1, inplace=True)\n",
    "train_lgbs.head()"
   ]
  },
  {
   "cell_type": "code",
   "execution_count": 8,
   "metadata": {},
   "outputs": [
    {
     "name": "stdout",
     "output_type": "stream",
     "text": [
      "(300000, 11) (200000, 11)\n"
     ]
    },
    {
     "data": {
      "text/html": [
       "<div>\n",
       "<style>\n",
       "    .dataframe thead tr:only-child th {\n",
       "        text-align: right;\n",
       "    }\n",
       "\n",
       "    .dataframe thead th {\n",
       "        text-align: left;\n",
       "    }\n",
       "\n",
       "    .dataframe tbody tr th {\n",
       "        vertical-align: top;\n",
       "    }\n",
       "</style>\n",
       "<table border=\"1\" class=\"dataframe\">\n",
       "  <thead>\n",
       "    <tr style=\"text-align: right;\">\n",
       "      <th></th>\n",
       "      <th>lgb_0</th>\n",
       "      <th>lgb_1</th>\n",
       "      <th>lgb_2</th>\n",
       "      <th>lgb_3</th>\n",
       "      <th>lgb_4</th>\n",
       "      <th>lgb_5</th>\n",
       "      <th>lgb_6</th>\n",
       "      <th>lgb_7</th>\n",
       "      <th>lgb_8</th>\n",
       "      <th>lgb_9</th>\n",
       "      <th>lgb_10</th>\n",
       "    </tr>\n",
       "  </thead>\n",
       "  <tbody>\n",
       "    <tr>\n",
       "      <th>0</th>\n",
       "      <td>0.666999</td>\n",
       "      <td>0.663931</td>\n",
       "      <td>0.728952</td>\n",
       "      <td>0.705889</td>\n",
       "      <td>0.685579</td>\n",
       "      <td>0.695320</td>\n",
       "      <td>0.731244</td>\n",
       "      <td>0.717042</td>\n",
       "      <td>0.748480</td>\n",
       "      <td>0.682567</td>\n",
       "      <td>0.702514</td>\n",
       "    </tr>\n",
       "    <tr>\n",
       "      <th>1</th>\n",
       "      <td>0.111730</td>\n",
       "      <td>0.100419</td>\n",
       "      <td>0.107382</td>\n",
       "      <td>0.092427</td>\n",
       "      <td>0.098425</td>\n",
       "      <td>0.111165</td>\n",
       "      <td>0.102604</td>\n",
       "      <td>0.119041</td>\n",
       "      <td>0.127871</td>\n",
       "      <td>0.086435</td>\n",
       "      <td>0.105643</td>\n",
       "    </tr>\n",
       "    <tr>\n",
       "      <th>2</th>\n",
       "      <td>0.107130</td>\n",
       "      <td>0.150763</td>\n",
       "      <td>0.119676</td>\n",
       "      <td>0.119989</td>\n",
       "      <td>0.130508</td>\n",
       "      <td>0.130578</td>\n",
       "      <td>0.148714</td>\n",
       "      <td>0.146052</td>\n",
       "      <td>0.141316</td>\n",
       "      <td>0.130699</td>\n",
       "      <td>0.132423</td>\n",
       "    </tr>\n",
       "    <tr>\n",
       "      <th>3</th>\n",
       "      <td>0.356599</td>\n",
       "      <td>0.320507</td>\n",
       "      <td>0.365091</td>\n",
       "      <td>0.301829</td>\n",
       "      <td>0.323177</td>\n",
       "      <td>0.385279</td>\n",
       "      <td>0.378165</td>\n",
       "      <td>0.344722</td>\n",
       "      <td>0.342320</td>\n",
       "      <td>0.333573</td>\n",
       "      <td>0.344974</td>\n",
       "    </tr>\n",
       "    <tr>\n",
       "      <th>4</th>\n",
       "      <td>0.667218</td>\n",
       "      <td>0.646015</td>\n",
       "      <td>0.662886</td>\n",
       "      <td>0.608191</td>\n",
       "      <td>0.686528</td>\n",
       "      <td>0.653806</td>\n",
       "      <td>0.592122</td>\n",
       "      <td>0.572931</td>\n",
       "      <td>0.550947</td>\n",
       "      <td>0.632290</td>\n",
       "      <td>0.627051</td>\n",
       "    </tr>\n",
       "  </tbody>\n",
       "</table>\n",
       "</div>"
      ],
      "text/plain": [
       "      lgb_0     lgb_1     lgb_2     lgb_3     lgb_4     lgb_5     lgb_6  \\\n",
       "0  0.666999  0.663931  0.728952  0.705889  0.685579  0.695320  0.731244   \n",
       "1  0.111730  0.100419  0.107382  0.092427  0.098425  0.111165  0.102604   \n",
       "2  0.107130  0.150763  0.119676  0.119989  0.130508  0.130578  0.148714   \n",
       "3  0.356599  0.320507  0.365091  0.301829  0.323177  0.385279  0.378165   \n",
       "4  0.667218  0.646015  0.662886  0.608191  0.686528  0.653806  0.592122   \n",
       "\n",
       "      lgb_7     lgb_8     lgb_9    lgb_10  \n",
       "0  0.717042  0.748480  0.682567  0.702514  \n",
       "1  0.119041  0.127871  0.086435  0.105643  \n",
       "2  0.146052  0.141316  0.130699  0.132423  \n",
       "3  0.344722  0.342320  0.333573  0.344974  \n",
       "4  0.572931  0.550947  0.632290  0.627051  "
      ]
     },
     "execution_count": 8,
     "metadata": {},
     "output_type": "execute_result"
    }
   ],
   "source": [
    "train_xgbs = pd.read_csv(\"../utility/train_oof_xgb_opt.csv\", compression='gzip', index_col=0)\n",
    "test_xgbs = pd.read_csv(\"../utility/test_pred_xgb_opt.csv\", compression='gzip', index_col=0)\n",
    "train_xgbs.columns = ['lgb_'+str(i) for i in range(train_xgbs.shape[1])]\n",
    "test_xgbs.columns = ['lgb_'+str(i) for i in range(test_xgbs.shape[1])]\n",
    "print(train_xgbs.shape, test_xgbs.shape)\n",
    "test_xgbs.head()"
   ]
  },
  {
   "cell_type": "code",
   "execution_count": 9,
   "metadata": {},
   "outputs": [
    {
     "name": "stdout",
     "output_type": "stream",
     "text": [
      "lgb_0     0.681084\n",
      "lgb_1     0.682187\n",
      "lgb_2     0.681800\n",
      "lgb_3     0.681355\n",
      "lgb_4     0.682380\n",
      "lgb_5     0.682748\n",
      "lgb_6     0.680794\n",
      "lgb_7     0.679827\n",
      "lgb_8     0.680775\n",
      "lgb_9     0.682187\n",
      "lgb_10    0.683192\n",
      "dtype: float64\n"
     ]
    }
   ],
   "source": [
    "print(train_xgbs.apply(lambda col: eval_top(y, col)))"
   ]
  },
  {
   "cell_type": "code",
   "execution_count": 10,
   "metadata": {},
   "outputs": [
    {
     "data": {
      "text/html": [
       "<div>\n",
       "<style>\n",
       "    .dataframe thead tr:only-child th {\n",
       "        text-align: right;\n",
       "    }\n",
       "\n",
       "    .dataframe thead th {\n",
       "        text-align: left;\n",
       "    }\n",
       "\n",
       "    .dataframe tbody tr th {\n",
       "        vertical-align: top;\n",
       "    }\n",
       "</style>\n",
       "<table border=\"1\" class=\"dataframe\">\n",
       "  <thead>\n",
       "    <tr style=\"text-align: right;\">\n",
       "      <th></th>\n",
       "      <th>dnn_preds</th>\n",
       "    </tr>\n",
       "  </thead>\n",
       "  <tbody>\n",
       "    <tr>\n",
       "      <th>0</th>\n",
       "      <td>0.298063</td>\n",
       "    </tr>\n",
       "    <tr>\n",
       "      <th>1</th>\n",
       "      <td>0.097849</td>\n",
       "    </tr>\n",
       "    <tr>\n",
       "      <th>2</th>\n",
       "      <td>0.870832</td>\n",
       "    </tr>\n",
       "    <tr>\n",
       "      <th>3</th>\n",
       "      <td>0.091072</td>\n",
       "    </tr>\n",
       "    <tr>\n",
       "      <th>4</th>\n",
       "      <td>0.435773</td>\n",
       "    </tr>\n",
       "  </tbody>\n",
       "</table>\n",
       "</div>"
      ],
      "text/plain": [
       "   dnn_preds\n",
       "0   0.298063\n",
       "1   0.097849\n",
       "2   0.870832\n",
       "3   0.091072\n",
       "4   0.435773"
      ]
     },
     "execution_count": 10,
     "metadata": {},
     "output_type": "execute_result"
    }
   ],
   "source": [
    "train_dnn = pd.read_csv(\"train_10fold-keras-run-05-v1-oof_0.72239_2017-11-07-12-28.csv\")\n",
    "test_dnn  = pd.read_csv(\"submission_10fold-average-keras-run-05-v1_0.72239_2017-11-07-12-28.csv\")\n",
    "train_dnn_preds = pd.DataFrame(train_dnn.set_index('UCIC_ID').loc[train['UCIC_ID'], 'Responders'].values, columns=['dnn_preds'])\n",
    "test_dnn_preds = pd.DataFrame(test_dnn.set_index('UCIC_ID').loc[test['UCIC_ID'], 'Responders'].values, columns=['dnn_preds'])\n",
    "train_dnn_preds.head()"
   ]
  },
  {
   "cell_type": "code",
   "execution_count": 11,
   "metadata": {},
   "outputs": [
    {
     "data": {
      "image/png": "[encoded data removed]",
      "text/plain": [
       "<matplotlib.figure.Figure at 0x7f0bbb9db828>"
      ]
     },
     "metadata": {},
     "output_type": "display_data"
    }
   ],
   "source": [
    "sns.distplot(train_dnn_preds)\n",
    "sns.distplot(test_dnn_preds)\n",
    "plt.show()"
   ]
  },
  {
   "cell_type": "code",
   "execution_count": 12,
   "metadata": {
    "collapsed": true
   },
   "outputs": [],
   "source": [
    "train_rfc = pd.read_csv(\"../utility/rfc_oof_preds.csv\")\n",
    "test_rfc = pd.read_csv(\"../utility/rfc_test_preds.csv\")\n",
    "\n",
    "train_lr = pd.read_csv(\"../utility/lr_oof_preds.csv\")\n",
    "test_lr = pd.read_csv(\"../utility/lr_test_preds.csv\")\n",
    "\n",
    "train_rd = pd.read_csv(\"../utility/rd_oof_preds.csv\")\n",
    "test_rd = pd.read_csv(\"../utility/rd_test_preds.csv\")\n",
    "\n",
    "train_sgd = pd.read_csv(\"../utility/sgd_oof_preds.csv\")\n",
    "test_sgd = pd.read_csv(\"../utility/sgd_test_preds.csv\")\n",
    "\n",
    "train_pas = pd.read_csv(\"../utility/pas_oof_preds.csv\")\n",
    "test_pas = pd.read_csv(\"../utility/pas_test_preds.csv\")"
   ]
  },
  {
   "cell_type": "code",
   "execution_count": 13,
   "metadata": {
    "collapsed": true
   },
   "outputs": [],
   "source": [
    "y = train['Responders']\n",
    "X = pd.concat([train_xgbs, train_lgbs, train_dnn_preds, \n",
    "              ], axis=1)\n",
    "X_test = pd.concat([test_xgbs, test_lgbs, test_dnn_preds,\n",
    "             ], axis=1)"
   ]
  },
  {
   "cell_type": "code",
   "execution_count": 14,
   "metadata": {},
   "outputs": [
    {
     "data": {
      "image/png": "[encoded data removed]",
      "text/plain": [
       "<matplotlib.figure.Figure at 0x7f0b9f69c668>"
      ]
     },
     "metadata": {},
     "output_type": "display_data"
    }
   ],
   "source": [
    "from sklearn.preprocessing import QuantileTransformer\n",
    "qnt = QuantileTransformer(5000, output_distribution='normal', random_state=1)\n",
    "X_tr = qnt.fit_transform(X)\n",
    "X_test_tr = qnt.transform(X_test)\n",
    "plt.hist(X_tr[:,0], bins=100)\n",
    "plt.show()"
   ]
  },
  {
   "cell_type": "code",
   "execution_count": null,
   "metadata": {},
   "outputs": [
    {
     "name": "stderr",
     "output_type": "stream",
     "text": [
      "[Parallel(n_jobs=-1)]: Done  34 tasks      | elapsed:    3.7s\n"
     ]
    }
   ],
   "source": [
    "RandomForestClassifier.predict_proba_corr = predict_proba_corr\n",
    "rfc = RandomForestClassifier(n_estimators=100, max_depth=4, min_samples_leaf=20, n_jobs=-1, verbose=1, random_state=1)\n",
    "rfc_preds = cross_val_predict(rfc, X_tr, y, cv=cvlist, method='predict_proba_corr', verbose=10)\n",
    "print(eval_top(y, rfc_preds))"
   ]
  },
  {
   "cell_type": "code",
   "execution_count": 16,
   "metadata": {},
   "outputs": [
    {
     "name": "stderr",
     "output_type": "stream",
     "text": [
      "[Parallel(n_jobs=-1)]: Done  34 tasks      | elapsed:    6.4s\n",
      "[Parallel(n_jobs=-1)]: Done 100 out of 100 | elapsed:   16.6s finished\n",
      "[Parallel(n_jobs=8)]: Done  34 tasks      | elapsed:    0.1s\n",
      "[Parallel(n_jobs=8)]: Done 100 out of 100 | elapsed:    0.3s finished\n"
     ]
    },
    {
     "data": {
      "image/png": "[encoded data removed]",
      "text/plain": [
       "<matplotlib.figure.Figure at 0x7f0b9bd459e8>"
      ]
     },
     "metadata": {},
     "output_type": "display_data"
    }
   ],
   "source": [
    "rfc_preds_test = rfc.fit(X_tr, y).predict_proba_corr(X_test_tr)\n",
    "sns.distplot(rfc_preds)\n",
    "sns.distplot(rfc_preds_test)\n",
    "plt.show()"
   ]
  },
  {
   "cell_type": "code",
   "execution_count": 17,
   "metadata": {},
   "outputs": [
    {
     "name": "stderr",
     "output_type": "stream",
     "text": [
      "[Parallel(n_jobs=1)]: Done   1 out of   1 | elapsed:    1.9s remaining:    0.0s\n",
      "[Parallel(n_jobs=1)]: Done   2 out of   2 | elapsed:    3.5s remaining:    0.0s\n",
      "[Parallel(n_jobs=1)]: Done   3 out of   3 | elapsed:    5.1s remaining:    0.0s\n",
      "[Parallel(n_jobs=1)]: Done   4 out of   4 | elapsed:    6.7s remaining:    0.0s\n"
     ]
    },
    {
     "name": "stdout",
     "output_type": "stream",
     "text": [
      "0.684159622415\n"
     ]
    },
    {
     "name": "stderr",
     "output_type": "stream",
     "text": [
      "[Parallel(n_jobs=1)]: Done   5 out of   5 | elapsed:    8.2s remaining:    0.0s\n",
      "[Parallel(n_jobs=1)]: Done   5 out of   5 | elapsed:    8.2s finished\n"
     ]
    }
   ],
   "source": [
    "LogisticRegression.predict_proba_corr = predict_proba_corr\n",
    "lr_lvl1 = LogisticRegression(C=0.001)\n",
    "lr_lvl1_preds = cross_val_predict(lr_lvl1, X_tr, y, cv=cvlist, method='predict_proba_corr', verbose=10)\n",
    "print(eval_top(y, lr_lvl1_preds))"
   ]
  },
  {
   "cell_type": "code",
   "execution_count": 18,
   "metadata": {},
   "outputs": [
    {
     "data": {
      "image/png": "[encoded data removed]",
      "text/plain": [
       "<matplotlib.figure.Figure at 0x7f0b9bd239b0>"
      ]
     },
     "metadata": {},
     "output_type": "display_data"
    }
   ],
   "source": [
    "lr_lvl1_preds_test = lr_lvl1.fit(X, y).predict_proba_corr(X_test)\n",
    "sns.distplot(lr_lvl1_preds)\n",
    "sns.distplot(lr_lvl1_preds_test)\n",
    "plt.show()"
   ]
  },
  {
   "cell_type": "code",
   "execution_count": 19,
   "metadata": {
    "collapsed": true
   },
   "outputs": [],
   "source": [
    "lr_lvl1_test_df = pd.DataFrame({'UCIC_ID':test.UCIC_ID, 'Responders':lr_lvl1_preds_test})\n",
    "lr_lvl1_test_df.to_csv(\"../utility/stacked_lr_lvl1.csv\", index=False)"
   ]
  },
  {
   "cell_type": "code",
   "execution_count": 20,
   "metadata": {
    "collapsed": true
   },
   "outputs": [],
   "source": [
    "def eval_lgb(actuals, preds):\n",
    "    return 'eval', eval_top(actuals, preds), True\n",
    "\n",
    "def cv_oof_predictions(estimator, X, y, cvlist, **est_kwargs):\n",
    "    preds = np.zeros(len(y)) #Initialize empty array to hold prediction\n",
    "    scores = []\n",
    "    ests = []\n",
    "    for tr_index, val_index in cvlist:\n",
    "        X_tr , X_val = X.iloc[tr_index], X.iloc[val_index]\n",
    "        y_tr , y_val = y.iloc[tr_index], y.iloc[val_index]\n",
    "        est = estimator.set_params(**est_kwargs)\n",
    "        #print(X_tr.shape, X_val.shape, y_tr.shape, y_val.shape)\n",
    "        est.fit(X_tr, y_tr, eval_set = [(X_tr, y_tr), (X_val, y_val)], eval_metric=eval_lgb,\n",
    "               early_stopping_rounds=50, verbose=50,\n",
    "               #sample_weight = preds_rfc[tr_index]\n",
    "               ) #Might need to change this depending on estimator\n",
    "        preds[val_index] = est.predict_proba(X_val)[:,1]\n",
    "        score = eval_top(y_val, est.predict_proba(X_val))\n",
    "        print(score)\n",
    "        scores.append(score)\n",
    "        ests.append(est)\n",
    "        #break\n",
    "    print(np.mean(y), np.mean(scores))\n",
    "    return ests, preds, scores"
   ]
  },
  {
   "cell_type": "code",
   "execution_count": 21,
   "metadata": {},
   "outputs": [
    {
     "name": "stderr",
     "output_type": "stream",
     "text": [
      "[Parallel(n_jobs=1)]: Done   1 out of   1 | elapsed:    0.7s remaining:    0.0s\n",
      "[Parallel(n_jobs=1)]: Done   2 out of   2 | elapsed:    1.3s remaining:    0.0s\n",
      "[Parallel(n_jobs=1)]: Done   3 out of   3 | elapsed:    2.0s remaining:    0.0s\n",
      "[Parallel(n_jobs=1)]: Done   4 out of   4 | elapsed:    2.8s remaining:    0.0s\n"
     ]
    },
    {
     "name": "stdout",
     "output_type": "stream",
     "text": [
      "0.684101591969\n"
     ]
    },
    {
     "name": "stderr",
     "output_type": "stream",
     "text": [
      "[Parallel(n_jobs=1)]: Done   5 out of   5 | elapsed:    3.5s remaining:    0.0s\n",
      "[Parallel(n_jobs=1)]: Done   5 out of   5 | elapsed:    3.5s finished\n"
     ]
    }
   ],
   "source": [
    "lgb.LGBMClassifier.predict_proba_corr = predict_proba_corr\n",
    "lgb_lvl1 = lgb.LGBMClassifier(learning_rate=0.05, n_estimators=20, max_depth=3, colsample_bytree=0.4, subsample=0.6, \n",
    "                              )\n",
    "#_, preds, _ = cv_oof_predictions(lgb_lvl1, X, y, cvlist)\n",
    "lgb_lvl1_preds = cross_val_predict(lgb_lvl1, X, y, cv=cvlist, method='predict_proba_corr', verbose=10)\n",
    "print(eval_top(y, lgb_lvl1_preds))"
   ]
  },
  {
   "cell_type": "code",
   "execution_count": 22,
   "metadata": {},
   "outputs": [
    {
     "data": {
      "image/png": "[encoded data removed]",
      "text/plain": [
       "<matplotlib.figure.Figure at 0x7f0b9bc9a6a0>"
      ]
     },
     "metadata": {},
     "output_type": "display_data"
    }
   ],
   "source": [
    "lgb_lvl1_preds_test = lgb_lvl1.set_params(n_estimators=20).fit(X,y).predict_proba_corr(X_test)\n",
    "sns.distplot(lgb_lvl1_preds)\n",
    "sns.distplot(lgb_lvl1_preds_test)\n",
    "plt.show()"
   ]
  },
  {
   "cell_type": "code",
   "execution_count": 23,
   "metadata": {
    "collapsed": true
   },
   "outputs": [],
   "source": [
    "lgb_lvl1_test_df = pd.DataFrame({'UCIC_ID':test.UCIC_ID, 'Responders':lgb_lvl1_preds_test})\n",
    "lgb_lvl1_test_df.to_csv(\"../utility/stacked_lgb_lvl1.csv\", index=False)"
   ]
  },
  {
   "cell_type": "code",
   "execution_count": 24,
   "metadata": {},
   "outputs": [
    {
     "name": "stdout",
     "output_type": "stream",
     "text": [
      "(300000, 3) (200000, 3)\n"
     ]
    }
   ],
   "source": [
    "X2 = np.vstack((rfc_preds, lr_lvl1_preds, lgb_lvl1_preds)).T\n",
    "X2_test = np.vstack((rfc_preds_test, lr_lvl1_preds_test, lgb_lvl1_preds_test)).T\n",
    "print(X2.shape, X2_test.shape)"
   ]
  },
  {
   "cell_type": "code",
   "execution_count": 43,
   "metadata": {},
   "outputs": [
    {
     "data": {
      "image/png": "[encoded data removed]",
      "text/plain": [
       "<matplotlib.figure.Figure at 0x7f0b9a9115c0>"
      ]
     },
     "metadata": {},
     "output_type": "display_data"
    }
   ],
   "source": [
    "qnt = QuantileTransformer(5000, output_distribution='uniform', random_state=1)\n",
    "X2_tr = qnt.fit_transform(X2)\n",
    "X2_test_tr = qnt.transform(X2_test)\n",
    "plt.hist(X_tr[:,0], bins=100)\n",
    "plt.show()"
   ]
  },
  {
   "cell_type": "code",
   "execution_count": 26,
   "metadata": {
    "collapsed": true
   },
   "outputs": [],
   "source": [
    "from scipy.stats import hmean, gmean"
   ]
  },
  {
   "cell_type": "code",
   "execution_count": 51,
   "metadata": {},
   "outputs": [
    {
     "name": "stderr",
     "output_type": "stream",
     "text": [
      "[Parallel(n_jobs=1)]: Done   1 out of   1 | elapsed:    0.3s remaining:    0.0s\n",
      "[Parallel(n_jobs=1)]: Done   2 out of   2 | elapsed:    0.7s remaining:    0.0s\n",
      "[Parallel(n_jobs=1)]: Done   3 out of   3 | elapsed:    1.0s remaining:    0.0s\n",
      "[Parallel(n_jobs=1)]: Done   4 out of   4 | elapsed:    1.3s remaining:    0.0s\n"
     ]
    },
    {
     "name": "stdout",
     "output_type": "stream",
     "text": [
      "0.684178965897\n"
     ]
    },
    {
     "name": "stderr",
     "output_type": "stream",
     "text": [
      "[Parallel(n_jobs=1)]: Done   5 out of   5 | elapsed:    1.5s remaining:    0.0s\n",
      "[Parallel(n_jobs=1)]: Done   5 out of   5 | elapsed:    1.5s finished\n"
     ]
    }
   ],
   "source": [
    "lr_lvl2 = LogisticRegression(C=0.0001, penalty='l2')\n",
    "lr_lvl2_preds = cross_val_predict(lr_lvl2, X2_tr, y, cv=cvlist, method='predict_proba_corr', verbose=10)\n",
    "print(eval_top(y, lr_lvl2_preds))"
   ]
  },
  {
   "cell_type": "code",
   "execution_count": 52,
   "metadata": {
    "collapsed": true
   },
   "outputs": [],
   "source": [
    "lr_lvl2_preds_test = lr_lvl2.fit(X2_tr,y).predict_proba_corr(X2_test_tr)\n",
    "lr_lvl2_test_df = pd.DataFrame({'UCIC_ID':test.UCIC_ID, 'Responders':lr_lvl2_preds_test})\n",
    "lr_lvl2_test_df.to_csv(\"../utility/stacked_lr_lvl2.csv\", index=False)"
   ]
  },
  {
   "cell_type": "code",
   "execution_count": 53,
   "metadata": {},
   "outputs": [
    {
     "data": {
      "image/png": "[encoded data removed]",
      "text/plain": [
       "<matplotlib.figure.Figure at 0x7f0b9bd1bc50>"
      ]
     },
     "metadata": {},
     "output_type": "display_data"
    }
   ],
   "source": [
    "sns.distplot(lr_lvl2_preds)\n",
    "sns.distplot(lr_lvl2_preds_test)\n",
    "plt.show()"
   ]
  },
  {
   "cell_type": "code",
   "execution_count": 36,
   "metadata": {},
   "outputs": [
    {
     "name": "stdout",
     "output_type": "stream",
     "text": [
      "0.683985531075\n"
     ]
    }
   ],
   "source": [
    "#analysis of errors\n",
    "gpred = hmean(X2, axis=1)\n",
    "print(eval_top(y, gpred))"
   ]
  },
  {
   "cell_type": "code",
   "execution_count": null,
   "metadata": {
    "collapsed": true
   },
   "outputs": [],
   "source": []
  },
  {
   "cell_type": "code",
   "execution_count": null,
   "metadata": {
    "collapsed": true
   },
   "outputs": [],
   "source": []
  }
 ],
 "metadata": {
  "kernelspec": {
   "display_name": "Python 3",
   "language": "python",
   "name": "python3"
  },
  "language_info": {
   "codemirror_mode": {
    "name": "ipython",
    "version": 3
   },
   "file_extension": ".py",
   "mimetype": "text/x-python",
   "name": "python",
   "nbconvert_exporter": "python",
   "pygments_lexer": "ipython3",
   "version": "3.6.3"
  }
 },
 "nbformat": 4,
 "nbformat_minor": 2
}
